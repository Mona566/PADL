{
 "cells": [
  {
   "cell_type": "code",
   "execution_count": null,
   "id": "02cc1948",
   "metadata": {},
   "outputs": [],
   "source": [
    "import zkbp\n",
    "import os,sys\n",
    "from pathlib import Path\n",
    "path = os.path.realpath('0-zkbp-intro.ipynb')\n",
    "sys.path.append(str(Path(path).parents[1]))  # go up 2 levels [1] to '/pyledger/'\n",
    "from pyledger.zkutils import Commit,r_blend, Token"
   ]
  },
  {
   "cell_type": "code",
   "execution_count": null,
   "id": "6e13a128",
   "metadata": {},
   "outputs": [],
   "source": [
    "# generate g and h\n",
    "gh = zkbp.gen_GH()\n",
    "\n",
    "# generate public and secret key\n",
    "pk_sk_obj = zkbp.gen_pb_sk(gh)\n",
    "pk = pk_sk_obj.get_pk()\n",
    "sk = pk_sk_obj.get_sk()\n",
    "print(f'public key is {pk} and secret key is {sk}')\n",
    "\n",
    "# generate a random point\n",
    "r = zkbp.gen_r()\n",
    "# print(f'r is {r.get}')\n",
    "\n",
    "# This r does not have add,mult,neg functions, so we use class r_blend()\n",
    "r = r_blend()\n",
    "rd = -r "
   ]
  },
  {
   "cell_type": "code",
   "execution_count": null,
   "id": "41bbe9fd",
   "metadata": {},
   "outputs": [],
   "source": [
    "# lets make a commitment\n",
    "# we can make a Pedersen commitment, we can do that with a commit object\n",
    "value = 13\n",
    "r = zkbp.gen_r()\n",
    "cm = zkbp.commit(value, r, gh)\n",
    "#print(cm.get)\n",
    "\n",
    "# another option\n",
    "r = r_blend()\n",
    "cmd = Commit(gh, value, r)\n",
    "print(cmd.eval.get)\n",
    "\n",
    "# we can also create a token that is just the public key raised to r\n",
    "tk = pk_sk_obj.to_token(r.val)\n",
    "print(tk.get)"
   ]
  },
  {
   "cell_type": "code",
   "execution_count": null,
   "id": "7775860f",
   "metadata": {},
   "outputs": [],
   "source": [
    "# proof of knowledge: lets create a zk proof and then verify it\n",
    "\n",
    "#g2val = zkbp.g_to_x(gh,value)\n",
    "sval = 10\n",
    "r = r_blend()\n",
    "cm = Commit(gh,sval,r)\n",
    "tk = pk_sk_obj.to_token(r.val)\n",
    "#h2r = Commit(gh,0,r).eval\n",
    "#tk = pk_sk_obj.to_token(r.val)\n",
    "h2r = zkbp.sub(zkbp.from_str(cm.eval.get), zkbp.from_str(zkbp.g_to_x(gh, sval).get))\n",
    "pr = zkbp.sigma_dlog_proof_explicit_sha256(tk,pk_sk_obj,h2r)\n",
    "t = zkbp.sigma_dlog_proof_explicit_verify_sha256(pr,h2r,tk)\n",
    "\n",
    "print(pr)\n",
    "print(t)\n",
    "# hash order: pk_t_rand_commitment, h2r, pk"
   ]
  },
  {
   "cell_type": "code",
   "execution_count": null,
   "id": "94d57bfc",
   "metadata": {},
   "outputs": [],
   "source": [
    "# lets create a range proof\n",
    "v = 10 #(try -1, 1 )\n",
    "r = r_blend()\n",
    "gh = zkbp.gen_GH()\n",
    "cm = Commit(gh, v, r)\n",
    "n_bit = 4 #(try 1, 2)\n",
    "pr = zkbp.range_proof_single(n_bit=n_bit, val=v, gh=gh, r=r.val)\n",
    "res = zkbp.range_proof_single_verify(pr, n_bit, gh, cm.eval)\n",
    "print(pr)\n",
    "print(res)"
   ]
  },
  {
   "cell_type": "code",
   "execution_count": null,
   "id": "45daf458",
   "metadata": {},
   "outputs": [],
   "source": [
    "# finally lets try a discrete log equality proof \n",
    "# this proof lets you prove a balance .. \n",
    "# that sum of commits will open to balance and sum of tokens blinding factors (rs)\n",
    "r = r_blend()\n",
    "val = 10\n",
    "tk = pk_sk_obj.to_token(r.val)\n",
    "cm = Commit(gh,val,r).eval\n",
    "h_sum_r = zkbp.sub(cm, zkbp.g_to_x(gh, val))\n",
    "pr = zkbp.sigma_eq_dlog_proof_sha256(tk, pk_sk_obj, gh, h_sum_r)\n",
    "cm = Commit(gh,val,r).eval\n",
    "print(pr)\n",
    "res = zkbp.sigma_eq_dlog_verify_sha256(pr, gh, h_sum_r, tk)\n",
    "print(res)"
   ]
  },
  {
   "cell_type": "code",
   "execution_count": null,
   "id": "511c994a",
   "metadata": {},
   "outputs": [],
   "source": [
    "r = r_blend()\n",
    "rd = -r \n",
    "newr = rd + r\n",
    "v = 0\n",
    "tk = pk_sk_obj.to_token(r.val)\n",
    "print(f'tk is {tk.get}')\n",
    "cm = Commit(gh,v,r).eval\n",
    "print(f'cm is {cm.get}')\n",
    "print(f'pk is {pk}')\n",
    "pr = zkbp.consistency_proof(v,r.val,gh,cm,tk,pk)\n",
    "print(pr)\n",
    "result = zkbp.consistency_proof_verify(proof=pr, gh=gh, ped_cm=cm, token=tk,\n",
    "                                               pubkey=pk_sk_obj.get_pk())\n",
    "print(result)"
   ]
  }
 ],
 "metadata": {
  "kernelspec": {
   "display_name": "Python 3 (ipykernel)",
   "language": "python",
   "name": "python3"
  },
  "language_info": {
   "codemirror_mode": {
    "name": "ipython",
    "version": 3
   },
   "file_extension": ".py",
   "mimetype": "text/x-python",
   "name": "python",
   "nbconvert_exporter": "python",
   "pygments_lexer": "ipython3",
   "version": "3.10.11"
  }
 },
 "nbformat": 4,
 "nbformat_minor": 5
}
